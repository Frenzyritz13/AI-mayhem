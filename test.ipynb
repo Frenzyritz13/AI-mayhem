{
 "cells": [
  {
   "cell_type": "code",
   "execution_count": 3,
   "metadata": {},
   "outputs": [],
   "source": [
    "# create environment variables\n",
    "import os\n",
    "os.environ['MAPS_API_KEY'] = \"\"\n",
    "os.environ[\"OPENAI_API_KEY\"] = \"\""
   ]
  },
  {
   "cell_type": "code",
   "execution_count": 4,
   "metadata": {},
   "outputs": [
    {
     "ename": "ImportError",
     "evalue": "cannot import name 'get_settings' from 'functions.settings' (/home/wjayesh/apps/places/functions/settings.py)",
     "output_type": "error",
     "traceback": [
      "\u001b[0;31m---------------------------------------------------------------------------\u001b[0m",
      "\u001b[0;31mImportError\u001b[0m                               Traceback (most recent call last)",
      "Cell \u001b[0;32mIn[4], line 3\u001b[0m\n\u001b[1;32m      1\u001b[0m \u001b[38;5;28;01mimport\u001b[39;00m \u001b[38;5;21;01mrequests\u001b[39;00m  \n\u001b[1;32m      2\u001b[0m \u001b[38;5;28;01mfrom\u001b[39;00m \u001b[38;5;21;01mopenai\u001b[39;00m \u001b[38;5;28;01mimport\u001b[39;00m OpenAI\n\u001b[0;32m----> 3\u001b[0m \u001b[38;5;28;01mfrom\u001b[39;00m \u001b[38;5;21;01mfunctions\u001b[39;00m\u001b[38;5;21;01m.\u001b[39;00m\u001b[38;5;21;01msettings\u001b[39;00m \u001b[38;5;28;01mimport\u001b[39;00m get_settings\n\u001b[1;32m      4\u001b[0m \u001b[38;5;28;01mimport\u001b[39;00m \u001b[38;5;21;01mjson\u001b[39;00m\n\u001b[1;32m      6\u001b[0m \u001b[38;5;28;01mdef\u001b[39;00m \u001b[38;5;21mget_directions\u001b[39m(api_key, start, end):  \n\u001b[1;32m      7\u001b[0m     \u001b[38;5;66;03m# start and end are place ids\u001b[39;00m\n",
      "\u001b[0;31mImportError\u001b[0m: cannot import name 'get_settings' from 'functions.settings' (/home/wjayesh/apps/places/functions/settings.py)"
     ]
    }
   ],
   "source": [
    "import requests  \n",
    "from openai import OpenAI\n",
    "from functions.settings import get_settings\n",
    "import json\n",
    "  \n",
    "def get_directions(api_key, start, end):  \n",
    "    # start and end are place ids\n",
    "    directions_url = \"https://maps.googleapis.com/maps/api/directions/json\"  \n",
    "    params = {\n",
    "        'origin': f'place_id:{start}',\n",
    "        'destination': f'place_id:{end}',\n",
    "        'key': api_key\n",
    "    }\n",
    "      \n",
    "    response = requests.get(directions_url, params=params)  \n",
    "    directions = response.json()  \n",
    "    return directions  \n",
    "  \n",
    "def get_notable_sights(api_key, path):  \n",
    "    places_url = \"https://maps.googleapis.com/maps/api/place/nearbysearch/json\"  \n",
    "    notable_sights = []  \n",
    "      \n",
    "    # Extract points from the path  \n",
    "    points = [step['end_location'] for step in path['legs'][0]['steps']]  \n",
    "    \n",
    "    # specify such included types that will make sense to be used to generate a \n",
    "    # riddle. for example, the \"route\" type is not included because it is not\n",
    "    # a place thatthat make for a good riddle fodder.\n",
    "    included_types = [\n",
    "        \"amusement_park\",\n",
    "        \"aquarium\",\n",
    "        \"art_gallery\",\n",
    "        \"bakery\",\n",
    "        \"bar\",\n",
    "        \"book_store\",\n",
    "        \"cafe\",\n",
    "        \"campground\",\n",
    "        \"church\",\n",
    "        \"hindu_temple\",\n",
    "        \"mosque\",\n",
    "        \"city_hall\",\n",
    "        \"clothing_store\",\n",
    "        \"convenience_store\",\n",
    "        \"department_store\",\n",
    "        \"electronics_store\",\n",
    "        \"florist\",\n",
    "        \"furniture_store\",\n",
    "        \"grocery_or_supermarket\",\n",
    "        \"hardware_store\",\n",
    "        \"home_goods_store\",\n",
    "        \"jewelry_store\",\n",
    "        \"liquor_store\",\n",
    "        \"meal_delivery\",\n",
    "        \"meal_takeaway\",\n",
    "        \"movie_theater\",\n",
    "        \"museum\",\n",
    "        \"night_club\",\n",
    "        \"park\",\n",
    "        \"restaurant\",\n",
    "        \"shopping_mall\",\n",
    "        \"spa\",\n",
    "        \"store\",\n",
    "        \"zoo\",\n",
    "        \"route\",\n",
    "        \"political\",\n",
    "        \"point_of_interest\",\n",
    "    ]\n",
    "      \n",
    "    for point in points:  \n",
    "        params = {  \n",
    "            'location': f\"{point['lat']},{point['lng']}\",  \n",
    "            'radius': 10,  \n",
    "            'key': api_key,  \n",
    "            # 'type': \"|\".join(included_types)\n",
    "        }\n",
    "          \n",
    "        response = requests.get(places_url, params=params)  \n",
    "        results = response.json().get('results', [])  \n",
    "          \n",
    "        for place in results:  \n",
    "            notable_sights.append({  \n",
    "                'name': place.get('name'),  \n",
    "                'location': place.get('geometry', {}).get('location')  \n",
    "            })\n",
    "      \n",
    "    return notable_sights  \n",
    "  \n",
    "def generate_riddle(api_key, start, end):  \n",
    "    # Get directions and notable sights\n",
    "    directions = get_directions(api_key, start, end)  \n",
    "    notable_sights = get_notable_sights(api_key, directions['routes'][0])  \n",
    "    # Generate a riddle based on the notable sights  \n",
    "    # get the place details for the start and end points\n",
    "    places_url = \"https://maps.googleapis.com/maps/api/place/details/json\"\n",
    "\n",
    "    # use only the name key in the notable_sights list\n",
    "    notable_sights = [sight['name'] for sight in notable_sights]\n",
    "\n",
    "    params = {\n",
    "        'place_id': start,\n",
    "        'key': api_key\n",
    "    }\n",
    "\n",
    "    response = requests.get(places_url, params=params)\n",
    "    start_name = response.json().get('result', {}).get('name')\n",
    "\n",
    "    params = {\n",
    "        'place_id': end,\n",
    "        'key': api_key\n",
    "    }\n",
    "\n",
    "    response = requests.get(places_url, params=params)\n",
    "    end_name = response.json().get('result', {}).get('name')\n",
    "\n",
    "    prompt = (\n",
    "        \"You have a list of some notable points that lie in a path leading to some destination. \"\n",
    "        \"Build a riddle that uses some of these points (the ones you think are best suited to be used) as \"\n",
    "        \"clues to the destination. The riddle should be such that the answer to the riddle is the destination. \"\n",
    "        \"Don't mention the destination name in the riddle. \"\n",
    "        f\"The start location is {start_name} and more importantly, the destination is {end_name}. \"\n",
    "        f\"The notable points are as follows: {notable_sights}.\"\n",
    "        \"Only output the riddle and nothing else.\"\n",
    "    )\n",
    "    \n",
    "    openai_client = OpenAI(api_key=os.environ[\"OPENAI_API_KEY\"])\n",
    "\n",
    "    response = openai_client.chat.completions.create(\n",
    "        model=\"gpt-3.5-turbo\",\n",
    "        messages=[\n",
    "            {\"role\": \"system\", \"content\": \"You are a helpful assistant.\"},\n",
    "            {\"role\": \"user\", \"content\": prompt},\n",
    "        ]\n",
    "    )\n",
    "\n",
    "    riddle = response.choices[0].message.content\n",
    "    # TODO generate image and voice over to the riddle\n",
    "    return riddle\n"
   ]
  },
  {
   "cell_type": "code",
   "execution_count": 5,
   "metadata": {},
   "outputs": [],
   "source": [
    "INSTRUCTIONS = [\n",
    "    \"You are a game master and must help conduct a game for the user.\"\n",
    "    \"Whenever, the start_game function is called, you must always have user's \"\n",
    "    \"interests with you. If the message doesn't have user's interests, you MUST \"\n",
    "    \"ask the user for their interests. Once the interests are clear, you can call \"\n",
    "    \"the start_game function with the user's interests and the current location. \"\n",
    "    \"There will be other functions that you may call according to the tool descriptions.\"\n",
    "]\n",
    "\n",
    "TOOLS = [\n",
    "    {\n",
    "        \"type\": \"function\",\n",
    "        \"function\": {\n",
    "            \"name\": \"start_game\",\n",
    "            \"description\": (\n",
    "                \"This should be called when a user wants to start a game. \"\n",
    "                \"The input parameters should be the user's current location \"\n",
    "                \"and the user's interests.\"\n",
    "            ),\n",
    "            \"parameters\": {\n",
    "                \"type\": \"object\",\n",
    "                \"properties\": {\n",
    "                    \"current_location\": {\n",
    "                        \"type\": \"string\",\n",
    "                        \"description\": \"The current location that is passed as part of the input message.\",\n",
    "                    },\n",
    "                    \"user_interests\": {\n",
    "                        \"type\": \"string\",\n",
    "                        \"description\": \"The users' interests that are passed as part of the input message.\",\n",
    "                    }\n",
    "                },\n",
    "            },\n",
    "        },\n",
    "    },\n",
    "    {\n",
    "        \"type\": \"function\",\n",
    "        \"function\": {\n",
    "            \"name\": \"verify\",\n",
    "            \"description\": \"Retrieves the details of a specific post from the forum. The tool should take the post ID as input and return the details of the post including the content, author, date, and other relevant information. It should be used when the user asks to read a specific post.\",\n",
    "            \"parameters\": {\n",
    "                \"type\": \"object\",\n",
    "                \"properties\": {\n",
    "                    \"current_location\": {\n",
    "                        \"type\": \"string\",\n",
    "                        \"description\": \"The current location of the user.\",\n",
    "                    },\n",
    "                },\n",
    "            },\n",
    "        },\n",
    "    },\n",
    "    {\n",
    "        \"type\": \"function\",\n",
    "        \"function\": {\n",
    "            \"name\": \"get_hint\",\n",
    "            \"description\": \"Generates a hint for the user to solve the current riddle and target location.\",\n",
    "            \"parameters\": {\n",
    "                \"type\": \"object\",\n",
    "                \"properties\": {},\n",
    "            },\n",
    "        },\n",
    "    },\n",
    "]"
   ]
  },
  {
   "cell_type": "code",
   "execution_count": 6,
   "metadata": {},
   "outputs": [],
   "source": [
    "from julep import Client\n",
    "api_key = \"\"\n",
    "    \n",
    "client = Client(api_key=api_key)"
   ]
  },
  {
   "cell_type": "code",
   "execution_count": 7,
   "metadata": {},
   "outputs": [],
   "source": [
    "agent = client.agents.create(\n",
    "        name=\"RiddleMaster\",\n",
    "        about=\"An agent that will act as a game master who can conduct a riddle based game where you find the next destination to go to\",\n",
    "        tools=TOOLS,\n",
    "        instructions=INSTRUCTIONS,\n",
    "        model=\"gpt-4o\",\n",
    "        default_settings={\n",
    "            \"temperature\": 0.5,\n",
    "            \"top_p\": 1,\n",
    "            \"min_p\": 0.01,\n",
    "            \"presence_penalty\": 0,\n",
    "            \"frequency_penalty\": 0,\n",
    "            \"length_penalty\": 1.0,\n",
    "        },\n",
    "        metadata={\"name\": \"RiddleMaster\"},\n",
    ")\n",
    "\n",
    "SITUATION_PROMPT = \"\"\"\n",
    "You are RiddleMaster, an Agent that can conduct games for users. Users will send you messages\n",
    "with different intents. They can be about starting a new game, verifying if the locations they have\n",
    "guessed are correct, or if they want a hint. You will use the tools at your disposal to help the users\n",
    "and make the game experience enjoyable.\n",
    "Follow the instructions strictly.\n",
    "\"\"\"\n",
    "\n",
    "session = client.sessions.create(\n",
    "    agent_id=agent.id,\n",
    "    situation=SITUATION_PROMPT,\n",
    "    metadata={\"agent_id\": agent.id},\n",
    ")\n"
   ]
  },
  {
   "cell_type": "code",
   "execution_count": 11,
   "metadata": {},
   "outputs": [],
   "source": [
    "\n",
    "response = client.sessions.chat(\n",
    "    session_id=session.id,\n",
    "    messages=[\n",
    "        {\n",
    "            \"role\": \"user\",\n",
    "            \"content\": \"my interests are in cafes and parks.\",\n",
    "        }\n",
    "    ],\n",
    "    recall=True,\n",
    "    remember=True,\n",
    ")"
   ]
  },
  {
   "cell_type": "code",
   "execution_count": 12,
   "metadata": {},
   "outputs": [
    {
     "data": {
      "text/plain": [
       "ChatResponse(id='b041f743-6b4e-4c57-a491-a00a090422c2', finish_reason=<ChatResponseFinishReason.TOOL_CALLS: 'tool_calls'>, response=[[ChatMlMessage(role=<ChatMlMessageRole.FUNCTION_CALL: 'function_call'>, content='{\"arguments\":\"{\\\\\"current_location\\\\\":\\\\\"12.76,45.89\\\\\",\\\\\"user_interests\\\\\":\\\\\"cafes and parks\\\\\"}\",\"name\":\"start_game\"}', name='RiddleMaster', created_at=datetime.datetime(2024, 6, 3, 13, 19, 26, 724673, tzinfo=datetime.timezone.utc), id='fcde103d-87ad-4eb2-9bb6-a3385c51932e')]], usage=CompletionUsage(completion_tokens=30, prompt_tokens=454, total_tokens=484), jobs=None, doc_ids=DocIds(agent_doc_ids=[], user_doc_ids=[]))"
      ]
     },
     "execution_count": 12,
     "metadata": {},
     "output_type": "execute_result"
    }
   ],
   "source": [
    "response"
   ]
  },
  {
   "cell_type": "code",
   "execution_count": 13,
   "metadata": {},
   "outputs": [
    {
     "name": "stdout",
     "output_type": "stream",
     "text": [
      "All places {}\n"
     ]
    },
    {
     "ename": "IndexError",
     "evalue": "list index out of range",
     "output_type": "error",
     "traceback": [
      "\u001b[0;31m---------------------------------------------------------------------------\u001b[0m",
      "\u001b[0;31mIndexError\u001b[0m                                Traceback (most recent call last)",
      "Cell \u001b[0;32mIn[13], line 12\u001b[0m\n\u001b[1;32m     10\u001b[0m     current_location \u001b[38;5;241m=\u001b[39m function_params[\u001b[38;5;124m\"\u001b[39m\u001b[38;5;124mcurrent_location\u001b[39m\u001b[38;5;124m\"\u001b[39m]\n\u001b[1;32m     11\u001b[0m     user_interests \u001b[38;5;241m=\u001b[39m function_params[\u001b[38;5;124m\"\u001b[39m\u001b[38;5;124muser_interests\u001b[39m\u001b[38;5;124m\"\u001b[39m]\n\u001b[0;32m---> 12\u001b[0m     riddle \u001b[38;5;241m=\u001b[39m \u001b[43mstart_game\u001b[49m\u001b[43m(\u001b[49m\u001b[43mcurrent_location\u001b[49m\u001b[43m,\u001b[49m\u001b[43m \u001b[49m\u001b[43muser_interests\u001b[49m\u001b[43m)\u001b[49m\n\u001b[1;32m     13\u001b[0m     \u001b[38;5;28mprint\u001b[39m(riddle)\n\u001b[1;32m     15\u001b[0m \u001b[38;5;28;01mif\u001b[39;00m function_name \u001b[38;5;241m==\u001b[39m \u001b[38;5;124m\"\u001b[39m\u001b[38;5;124mverify\u001b[39m\u001b[38;5;124m\"\u001b[39m:\n",
      "File \u001b[0;32m~/apps/places/functions/start.py:102\u001b[0m, in \u001b[0;36mstart_game\u001b[0;34m(current_location, user_interests)\u001b[0m\n\u001b[1;32m     96\u001b[0m params \u001b[38;5;241m=\u001b[39m {\n\u001b[1;32m     97\u001b[0m     \u001b[38;5;124m\"\u001b[39m\u001b[38;5;124mlocation\u001b[39m\u001b[38;5;124m\"\u001b[39m: current_location,\n\u001b[1;32m     98\u001b[0m     \u001b[38;5;124m\"\u001b[39m\u001b[38;5;124mradius\u001b[39m\u001b[38;5;124m\"\u001b[39m: \u001b[38;5;241m50\u001b[39m,\n\u001b[1;32m     99\u001b[0m     \u001b[38;5;124m\"\u001b[39m\u001b[38;5;124mkey\u001b[39m\u001b[38;5;124m\"\u001b[39m: api_key\n\u001b[1;32m    100\u001b[0m }\n\u001b[1;32m    101\u001b[0m response \u001b[38;5;241m=\u001b[39m requests\u001b[38;5;241m.\u001b[39mget(place_url, params\u001b[38;5;241m=\u001b[39mparams)\n\u001b[0;32m--> 102\u001b[0m current_location \u001b[38;5;241m=\u001b[39m \u001b[43mresponse\u001b[49m\u001b[38;5;241;43m.\u001b[39;49m\u001b[43mjson\u001b[49m\u001b[43m(\u001b[49m\u001b[43m)\u001b[49m\u001b[38;5;241;43m.\u001b[39;49m\u001b[43mget\u001b[49m\u001b[43m(\u001b[49m\u001b[38;5;124;43m\"\u001b[39;49m\u001b[38;5;124;43mresults\u001b[39;49m\u001b[38;5;124;43m\"\u001b[39;49m\u001b[43m,\u001b[49m\u001b[43m \u001b[49m\u001b[43m[\u001b[49m\u001b[43m]\u001b[49m\u001b[43m)\u001b[49m\u001b[43m[\u001b[49m\u001b[38;5;241;43m0\u001b[39;49m\u001b[43m]\u001b[49m[\u001b[38;5;124m\"\u001b[39m\u001b[38;5;124mplace_id\u001b[39m\u001b[38;5;124m\"\u001b[39m]\n\u001b[1;32m    104\u001b[0m \u001b[38;5;66;03m# set the current target to 0\u001b[39;00m\n\u001b[1;32m    105\u001b[0m \u001b[38;5;28;01mglobal\u001b[39;00m current_target\n",
      "\u001b[0;31mIndexError\u001b[0m: list index out of range"
     ]
    }
   ],
   "source": [
    "import json\n",
    "from functions.start import start_game, get_hint, verify\n",
    "\n",
    "if response.finish_reason == \"tool_calls\":\n",
    "    json_response = json.loads(response.response[0][0].content)\n",
    "    function_name = json_response[\"name\"]\n",
    "    function_params = json.loads(json_response[\"arguments\"])\n",
    "\n",
    "    if function_name == \"start_game\":\n",
    "        current_location = function_params[\"current_location\"]\n",
    "        user_interests = function_params[\"user_interests\"]\n",
    "        riddle = start_game(current_location, user_interests)\n",
    "        print(riddle)\n",
    "\n",
    "    if function_name == \"verify\":\n",
    "        current_location = function_params[\"current_location\"]\n",
    "        response = verify(current_location)\n",
    "        print(response)\n",
    "\n",
    "    if function_name == \"get_hint\":\n",
    "        hint = get_hint()\n",
    "        print(hint)\n",
    "        "
   ]
  },
  {
   "cell_type": "code",
   "execution_count": 27,
   "metadata": {},
   "outputs": [],
   "source": [
    "prompt = (\n",
    "        \"This list of interests come from a group of people interested in \"\n",
    "        \"exploring a city. Take this list of interests and generate exact keywords \"\n",
    "        \"to pass to the Google Maps Places API to get the coordinates for them. The \"\n",
    "        \"interests are: {}. The keywords should be a list of strings. \"\n",
    "        \"Output only the list and nothing else \".format(\"i like to work out of cafes and parks\")\n",
    "    )\n",
    "\n",
    "openai_client = OpenAI(api_key=os.getenv(\"OPENAI_API_KEY\"))\n",
    "\n",
    "response = openai_client.chat.completions.create(\n",
    "    model=\"gpt-3.5-turbo\",\n",
    "    messages=[\n",
    "        {\"role\": \"system\", \"content\": \"You are a helpful assistant.\"},\n",
    "        {\"role\": \"user\", \"content\": prompt},\n",
    "    ]\n",
    ")"
   ]
  },
  {
   "cell_type": "code",
   "execution_count": 32,
   "metadata": {},
   "outputs": [
    {
     "data": {
      "text/plain": [
       "['cafe', 'park']"
      ]
     },
     "execution_count": 32,
     "metadata": {},
     "output_type": "execute_result"
    }
   ],
   "source": [
    "response.choices[0].message.content.split(\", \")"
   ]
  },
  {
   "cell_type": "code",
   "execution_count": 20,
   "metadata": {},
   "outputs": [
    {
     "data": {
      "text/plain": [
       "'{\"arguments\":\"{\\\\\"current_location\\\\\":\\\\\"32.715736,-117.161087\\\\\",\\\\\"user_interests\\\\\":\\\\\"cafes that I can work out of, and parks\\\\\"}\",\"name\":\"start_game\"}'"
      ]
     },
     "execution_count": 20,
     "metadata": {},
     "output_type": "execute_result"
    }
   ],
   "source": [
    "response.response[0][0].content"
   ]
  },
  {
   "cell_type": "code",
   "execution_count": 50,
   "metadata": {},
   "outputs": [],
   "source": [
    "os.environ[\"OPENAI_API_KEY\"] = \"\""
   ]
  },
  {
   "cell_type": "code",
   "execution_count": 8,
   "metadata": {},
   "outputs": [
    {
     "data": {
      "text/plain": [
       "<module 'functions.generate_riddle_function' from '/home/wjayesh/apps/places/functions/generate_riddle_function.py'>"
      ]
     },
     "execution_count": 8,
     "metadata": {},
     "output_type": "execute_result"
    }
   ],
   "source": [
    "# reload file\n",
    "import importlib\n",
    "from functions import generate_riddle_function, start\n",
    "\n",
    "importlib.reload(start)\n",
    "importlib.reload(generate_riddle_function)"
   ]
  },
  {
   "cell_type": "code",
   "execution_count": null,
   "metadata": {},
   "outputs": [],
   "source": []
  }
 ],
 "metadata": {
  "kernelspec": {
   "display_name": "ai-mayhem",
   "language": "python",
   "name": "python3"
  },
  "language_info": {
   "codemirror_mode": {
    "name": "ipython",
    "version": 3
   },
   "file_extension": ".py",
   "mimetype": "text/x-python",
   "name": "python",
   "nbconvert_exporter": "python",
   "pygments_lexer": "ipython3",
   "version": "3.11.9"
  }
 },
 "nbformat": 4,
 "nbformat_minor": 2
}
